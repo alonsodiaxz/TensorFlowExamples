{
  "nbformat": 4,
  "nbformat_minor": 0,
  "metadata": {
    "colab": {
      "name": "Untitled1.ipynb",
      "provenance": [],
      "collapsed_sections": [],
      "authorship_tag": "ABX9TyMYjoicalxJr2wFVz/xxHj7",
      "include_colab_link": true
    },
    "kernelspec": {
      "name": "python3",
      "display_name": "Python 3"
    },
    "language_info": {
      "name": "python"
    }
  },
  "cells": [
    {
      "cell_type": "markdown",
      "metadata": {
        "id": "view-in-github",
        "colab_type": "text"
      },
      "source": [
        "<a href=\"https://colab.research.google.com/github/alonsodiaxz/TensorFlowExamples/blob/main/Celsius.ipynb\" target=\"_parent\"><img src=\"https://colab.research.google.com/assets/colab-badge.svg\" alt=\"Open In Colab\"/></a>"
      ]
    },
    {
      "cell_type": "code",
      "execution_count": 1,
      "metadata": {
        "id": "-ERfT7oRzG9Q"
      },
      "outputs": [],
      "source": [
        "import tensorflow as tf #Biblioteca de inteligencia artificial\n",
        "import numpy as np #Trabajar fácilmente con arrays\n",
        "\n"
      ]
    },
    {
      "cell_type": "code",
      "source": [
        "celsius = np.array([-40, -10, 0, 8, 15 ,22, 38], dtype=float)\n",
        "fahrenheit = np.array([-40, 14, 32, 46, 59 ,72, 100], dtype=float)"
      ],
      "metadata": {
        "id": "4A8uaxsizlhB"
      },
      "execution_count": 2,
      "outputs": []
    },
    {
      "cell_type": "code",
      "source": [
        "from tensorflow.python.ops.gen_array_ops import shape\n",
        "#capa = tf.keras.layers.Dense(units=1, input_shape=[1]) #Con units le indicas las neuronas que tendra la capa, input shape muestra que tenemos \n",
        "#una capa de entrada con una neurona tambien\n",
        "#Necesitamos usar un modelo de keras para darle las capas y poder trabajar con él. Hay varios tipos de modelos en este caso usaremos el secuencial\n",
        "#Los otros modelos son para redes neuronales mas avanzadas.\n",
        "\n",
        "#Ahora le añadimos dos capas intermedias con 3 neuronas cada una.\n",
        "oculta1 = tf.keras.layers.Dense(units=3, input_shape=[1])\n",
        "oculta2 = tf.keras.layers.Dense(units=3, )\n",
        "salida = tf.keras.layers.Dense(units=1, )\n",
        "modelo = tf.keras.Sequential([oculta1, oculta2, salida])"
      ],
      "metadata": {
        "id": "6LamTr0u0xtT"
      },
      "execution_count": 9,
      "outputs": []
    },
    {
      "cell_type": "code",
      "source": [
        "#Hay que decirle algunas propiedades de como procesar esas matematicas para poder aprender mejor. De momento, solo le diremos dos propiedades. El optimizador \n",
        "#y la funcion de perdida. En el optimizador utilizaremos adam ya que permite a la red saber como ajustar los pesos y sesgos de manera eficiente para que aprenda y no desaprenda.\n",
        "#Es decir, que poco a poco vaya mejorando y no empeorando.\n",
        "modelo.compile(\n",
        "    optimizer = tf.keras.optimizers.Adam(0.1),\n",
        "    loss='mean_squared_error' #Unca poca antidad de errores grande es peor que una gran cantidad de errores pequeños\n",
        "\n",
        ")"
      ],
      "metadata": {
        "id": "ehkNG_WY3faV"
      },
      "execution_count": 10,
      "outputs": []
    },
    {
      "cell_type": "code",
      "source": [
        "print('Comenzado entrenamiento...')\n",
        "historial = modelo.fit(celsius, fahrenheit, epochs=1000, verbose=False)\n",
        "print('Modelo entrenado!')"
      ],
      "metadata": {
        "colab": {
          "base_uri": "https://localhost:8080/"
        },
        "id": "B7hDaiF_40Bq",
        "outputId": "0ca3c2ef-0e5f-466d-cc55-e1491e889f9f"
      },
      "execution_count": 11,
      "outputs": [
        {
          "output_type": "stream",
          "name": "stdout",
          "text": [
            "Comenzado entrenamiento...\n",
            "Modelo entrenado!\n"
          ]
        }
      ]
    },
    {
      "cell_type": "code",
      "source": [
        "#Antes de comenzar hay que revisar la función de pérdida, esta función básicamente nos dice que tan mal estan los resultados de la red en cada vuelta que dio.\n",
        "import matplotlib.pyplot as plt\n",
        "plt.xlabel(\"#Epoca\")\n",
        "plt.ylabel(\"Magnitud de pérdida\")\n",
        "plt.plot(historial.history[\"loss\"])"
      ],
      "metadata": {
        "colab": {
          "base_uri": "https://localhost:8080/",
          "height": 296
        },
        "id": "mJZ8AVHB5XWq",
        "outputId": "7d962971-eba0-4ee6-d51a-b104bdde460d"
      },
      "execution_count": 12,
      "outputs": [
        {
          "output_type": "execute_result",
          "data": {
            "text/plain": [
              "[<matplotlib.lines.Line2D at 0x7f96a9b85610>]"
            ]
          },
          "metadata": {},
          "execution_count": 12
        },
        {
          "output_type": "display_data",
          "data": {
            "image/png": "[encoded data removed]",
            "text/plain": [
              "<Figure size 432x288 with 1 Axes>"
            ]
          },
          "metadata": {
            "needs_background": "light"
          }
        }
      ]
    },
    {
      "cell_type": "code",
      "source": [
        "print(\"Hagmos una predicción!\")\n",
        "resultado = modelo.predict([100.0])\n",
        "print(\"El resultado es \" + str(resultado) + \"farenheit!\")"
      ],
      "metadata": {
        "colab": {
          "base_uri": "https://localhost:8080/"
        },
        "id": "f2aOSvcq6TUy",
        "outputId": "be98a52e-2c4f-4655-8de3-2eb0e3240814"
      },
      "execution_count": 13,
      "outputs": [
        {
          "output_type": "stream",
          "name": "stdout",
          "text": [
            "Hagmos una predicción!\n",
            "El resultado es [[211.74742]]farenheit!\n"
          ]
        }
      ]
    },
    {
      "cell_type": "code",
      "source": [
        "print(\"Variales internas del modelo\")\n",
        "print(oculta1.get_weights()) #Obtener el peso, primer elemento, y el sesgo, segundo elemento.\n",
        "print(oculta2.get_weights())\n",
        "print(salida.get_weights())"
      ],
      "metadata": {
        "colab": {
          "base_uri": "https://localhost:8080/"
        },
        "id": "Q6211kY87i8M",
        "outputId": "32560f23-d9da-4f4e-eb5d-347c16076059"
      },
      "execution_count": 15,
      "outputs": [
        {
          "output_type": "stream",
          "name": "stdout",
          "text": [
            "Variales internas del modelo\n",
            "[array([[-0.82051826, -0.02501885, -0.15333867]], dtype=float32), array([-3.7042542, -3.4467268,  2.2180853], dtype=float32)]\n",
            "[array([[-0.20391554, -0.03837975,  1.2775644 ],\n",
            "       [ 0.43267494, -0.8618709 ,  1.2176607 ],\n",
            "       [ 0.9137573 , -0.9237229 , -0.745337  ]], dtype=float32), array([ 2.6633873,  2.4272637, -3.5235376], dtype=float32)]\n",
            "[array([[ 0.49587983],\n",
            "       [ 0.5810286 ],\n",
            "       [-1.7385248 ]], dtype=float32), array([3.439389], dtype=float32)]\n"
          ]
        }
      ]
    }
  ]
}